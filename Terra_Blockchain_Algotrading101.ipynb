{
  "nbformat": 4,
  "nbformat_minor": 0,
  "metadata": {
    "colab": {
      "name": "Terra Blockchain Algotrading101",
      "provenance": [],
      "collapsed_sections": [],
      "authorship_tag": "ABX9TyM8/4B4kdIXe0uCfxcMRyYp"
    },
    "kernelspec": {
      "name": "python3",
      "display_name": "Python 3"
    },
    "language_info": {
      "name": "python"
    }
  },
  "cells": [
    {
      "cell_type": "markdown",
      "source": [
        "#Obtain the Python SDK"
      ],
      "metadata": {
        "id": "fS3buAa9g4cC"
      }
    },
    {
      "cell_type": "code",
      "execution_count": null,
      "metadata": {
        "id": "vYxBpV1Wg1X1"
      },
      "outputs": [],
      "source": [
        "!pip install terra_sdk"
      ]
    },
    {
      "cell_type": "markdown",
      "source": [
        "# Connect to the Blockchain"
      ],
      "metadata": {
        "id": "Bb7CqWA2g-Qj"
      }
    },
    {
      "cell_type": "code",
      "source": [
        "from terra_sdk.client.lcd import LCDClient\n",
        "\n",
        "terra = LCDClient(\n",
        "    chain_id=\"bombay-12\", \n",
        "    url=\"https://bombay-lcd.terra.dev\"\n",
        "    )\n",
        "terra"
      ],
      "metadata": {
        "colab": {
          "base_uri": "https://localhost:8080/"
        },
        "id": "5bOrjM_Yg9p6",
        "outputId": "cbbdfb4b-a8ac-46ef-f5eb-aade482b54c8"
      },
      "execution_count": null,
      "outputs": [
        {
          "output_type": "execute_result",
          "data": {
            "text/plain": [
              "<terra_sdk.client.lcd.lcdclient.LCDClient at 0x7f06d9514910>"
            ]
          },
          "metadata": {},
          "execution_count": 3
        }
      ]
    },
    {
      "cell_type": "markdown",
      "source": [
        "# Create a wallet"
      ],
      "metadata": {
        "id": "FbHzYZz_jZgD"
      }
    },
    {
      "cell_type": "code",
      "source": [
        "from terra_sdk.key.mnemonic import MnemonicKey\n",
        "\n",
        "mk = MnemonicKey('warm photo twenty series memory law range bonus shallow tent remove bone country chunk civil device harvest level lunar maid mom glad wood sight')\n",
        "mk.mnemonic"
      ],
      "metadata": {
        "colab": {
          "base_uri": "https://localhost:8080/",
          "height": 35
        },
        "id": "Vv9hrwNGh20p",
        "outputId": "fab8b4ea-0e7a-436d-d75a-97a292cf55b0"
      },
      "execution_count": null,
      "outputs": [
        {
          "output_type": "execute_result",
          "data": {
            "application/vnd.google.colaboratory.intrinsic+json": {
              "type": "string"
            },
            "text/plain": [
              "'warm photo twenty series memory law range bonus shallow tent remove bone country chunk civil device harvest level lunar maid mom glad wood sight'"
            ]
          },
          "metadata": {},
          "execution_count": 4
        }
      ]
    },
    {
      "cell_type": "code",
      "source": [
        "print(mk.acc_address, '\\n')\n",
        "print(mk.private_key)"
      ],
      "metadata": {
        "colab": {
          "base_uri": "https://localhost:8080/"
        },
        "id": "j1BYO5TDh9Oh",
        "outputId": "bba69479-e580-49ec-ae20-62da994d71a0"
      },
      "execution_count": null,
      "outputs": [
        {
          "output_type": "stream",
          "name": "stdout",
          "text": [
            "terra1sjvvhcvaqeg4x05dgn8avhwe56hr739ps8qnzp \n",
            "\n",
            "b'\\x8e\\x1d\\r\\x15\\xda\\x9c\\xe6\\xe4\\xa4\\xfc\\x81x,\\xbeM\\xad\\\\\\x87r\\x18\\x96_i\\x96K$P\\xf2j\\xfe\\xfe_'\n"
          ]
        }
      ]
    },
    {
      "cell_type": "markdown",
      "source": [
        "# Test tokens"
      ],
      "metadata": {
        "id": "3sOSEEUbmzc-"
      }
    },
    {
      "cell_type": "code",
      "source": [
        "terra.bank.balance(mk.acc_address)"
      ],
      "metadata": {
        "colab": {
          "base_uri": "https://localhost:8080/"
        },
        "id": "xGAk_eWElR4x",
        "outputId": "d49fbea2-0db0-4d86-eebd-43e17280769a"
      },
      "execution_count": null,
      "outputs": [
        {
          "output_type": "execute_result",
          "data": {
            "text/plain": [
              "Coins('1000000000uluna,5000000000uusd')"
            ]
          },
          "metadata": {},
          "execution_count": 5
        }
      ]
    },
    {
      "cell_type": "markdown",
      "source": [
        "# Blockchain data"
      ],
      "metadata": {
        "id": "7dFku-ju3Tug"
      }
    },
    {
      "cell_type": "code",
      "source": [
        "terra.treasury.tax_rate()"
      ],
      "metadata": {
        "colab": {
          "base_uri": "https://localhost:8080/"
        },
        "id": "TdkOoa_SAhBe",
        "outputId": "c1ac5cd5-27b2-4b4b-85ca-47110ce46fcc"
      },
      "execution_count": null,
      "outputs": [
        {
          "output_type": "execute_result",
          "data": {
            "text/plain": [
              "Dec('0')"
            ]
          },
          "metadata": {},
          "execution_count": 36
        }
      ]
    },
    {
      "cell_type": "code",
      "source": [
        "terra.oracle.parameters()"
      ],
      "metadata": {
        "colab": {
          "base_uri": "https://localhost:8080/"
        },
        "id": "fdZ_yip_4Jr4",
        "outputId": "cc8c09dc-235f-4c50-edbd-f062c77d8326"
      },
      "execution_count": null,
      "outputs": [
        {
          "output_type": "execute_result",
          "data": {
            "text/plain": [
              "{'min_valid_per_window': '0.050000000000000000',\n",
              " 'reward_band': '0.120000000000000000',\n",
              " 'reward_distribution_window': '5256000',\n",
              " 'slash_fraction': '0.000100000000000000',\n",
              " 'slash_window': '100800',\n",
              " 'vote_period': '5',\n",
              " 'vote_threshold': '0.500000000000000000',\n",
              " 'whitelist': [{'name': 'ukrw', 'tobin_tax': '0.010000000000000000'},\n",
              "  {'name': 'usdr', 'tobin_tax': '0.003500000000000000'},\n",
              "  {'name': 'uusd', 'tobin_tax': '0.003500000000000000'},\n",
              "  {'name': 'umnt', 'tobin_tax': '0.020000000000000000'},\n",
              "  {'name': 'ueur', 'tobin_tax': '0.003500000000000000'},\n",
              "  {'name': 'ucny', 'tobin_tax': '0.003500000000000000'},\n",
              "  {'name': 'ujpy', 'tobin_tax': '0.003500000000000000'},\n",
              "  {'name': 'ugbp', 'tobin_tax': '0.003500000000000000'},\n",
              "  {'name': 'uinr', 'tobin_tax': '0.003500000000000000'},\n",
              "  {'name': 'ucad', 'tobin_tax': '0.003500000000000000'},\n",
              "  {'name': 'uchf', 'tobin_tax': '0.003500000000000000'},\n",
              "  {'name': 'uhkd', 'tobin_tax': '0.003500000000000000'},\n",
              "  {'name': 'usgd', 'tobin_tax': '0.003500000000000000'},\n",
              "  {'name': 'uaud', 'tobin_tax': '0.003500000000000000'},\n",
              "  {'name': 'uthb', 'tobin_tax': '0.007500000000000000'},\n",
              "  {'name': 'usek', 'tobin_tax': '0.003500000000000000'},\n",
              "  {'name': 'unok', 'tobin_tax': '0.003500000000000000'},\n",
              "  {'name': 'udkk', 'tobin_tax': '0.003500000000000000'}]}"
            ]
          },
          "metadata": {},
          "execution_count": 35
        }
      ]
    },
    {
      "cell_type": "code",
      "source": [
        "terra.last_request_height()"
      ],
      "metadata": {
        "id": "xZQKBB-j4Jpk"
      },
      "execution_count": null,
      "outputs": []
    },
    {
      "cell_type": "markdown",
      "source": [
        "# Price data"
      ],
      "metadata": {
        "id": "qYhXwfWCB_JH"
      }
    },
    {
      "cell_type": "code",
      "source": [
        "terra.market.swap_rate('100000000uusd', 'uluna')"
      ],
      "metadata": {
        "colab": {
          "base_uri": "https://localhost:8080/"
        },
        "id": "ciHMbBlz4Jm2",
        "outputId": "c9f8d243-221f-4192-bd54-086e0ee59e05"
      },
      "execution_count": null,
      "outputs": [
        {
          "output_type": "execute_result",
          "data": {
            "text/plain": [
              "Coin(denom='uluna', amount=1259909)"
            ]
          },
          "metadata": {},
          "execution_count": 42
        }
      ]
    },
    {
      "cell_type": "code",
      "source": [
        "import requests\n",
        "\n",
        "requests.get('https://fcd.terra.dev/v1/market/price?denom=uusd&interval=1h').json()"
      ],
      "metadata": {
        "id": "b4Inj4HQ4JkS"
      },
      "execution_count": null,
      "outputs": []
    },
    {
      "cell_type": "markdown",
      "source": [
        "# Native Swap"
      ],
      "metadata": {
        "id": "1e5SGT0UJBMs"
      }
    },
    {
      "cell_type": "code",
      "source": [
        "from terra_sdk.core.market import MsgSwap\n",
        "\n",
        "# Swap 100 UST for Luna\n",
        "msg = MsgSwap(mk.acc_address, \"100000000uusd\", \"uluna\")\n",
        "\n",
        "# Initialize the wallet\n",
        "wallet = terra.wallet(mk)\n",
        "\n",
        "# Create and sign the transaction\n",
        "tx = wallet.create_and_sign_tx(\n",
        "    msgs=[msg],\n",
        "    memo = \"Algotrading101\", # Optional\n",
        "    gas_prices = \"1uluna\", # Optional\n",
        "    gas_adjustment = \"1.3\", # Optional\n",
        "    fee_denoms = [\"uluna\", \"uusd\"] # Optional\n",
        ")\n",
        "\n",
        "tx"
      ],
      "metadata": {
        "id": "FgEpvuf53cMq",
        "colab": {
          "base_uri": "https://localhost:8080/"
        },
        "outputId": "14133cef-e4de-4375-83d4-8a21f24c181e"
      },
      "execution_count": null,
      "outputs": [
        {
          "output_type": "stream",
          "name": "stdout",
          "text": [
            "StdTx(msg=[MsgSwap(trader='terra1sjvvhcvaqeg4x05dgn8avhwe56hr739ps8qnzp', offer_coin=Coin(denom='uusd', amount=100000000), ask_denom='uluna')], fee=StdFee(gas=134045, amount=Coins('134045uluna')), signatures=[StdSignature(signature='n+hJUQn0sT5zFS3JKQq7Tgqks5Fl6v+1RZ5439Ja/7hDeGoWXvBhh+fMwK17mq7HxVo46YabA4tpeMV6eBEqag==', pub_key=PublicKey(type='tendermint/PubKeySecp256k1', value='AlAdv8psEHZm56S9nzleTMhaEyEQmqR/UqACtRP8BnR9'))], memo='Algotrading101')\n"
          ]
        }
      ]
    },
    {
      "cell_type": "code",
      "source": [
        "result = terra.tx.broadcast(tx)\n",
        "result"
      ],
      "metadata": {
        "id": "y9aoyuZpErWo",
        "colab": {
          "base_uri": "https://localhost:8080/"
        },
        "outputId": "c10394b0-7ab0-4f13-956d-762cec966c33"
      },
      "execution_count": null,
      "outputs": [
        {
          "output_type": "execute_result",
          "data": {
            "text/plain": [
              "BlockTxBroadcastResult(height=7422210, txhash='637AE50983E6F2AF45DD15013DF00B0F92DBA90DFF3E48A121B9E28CC594E2CD', raw_log='[{\"events\":[{\"type\":\"burn\",\"attributes\":[{\"key\":\"burner\",\"value\":\"terra1untf85jwv3kt0puyyc39myxjvplagr3wstgs5s\"},{\"key\":\"amount\",\"value\":\"100000000uusd\"}]},{\"type\":\"coin_received\",\"attributes\":[{\"key\":\"receiver\",\"value\":\"terra1untf85jwv3kt0puyyc39myxjvplagr3wstgs5s\"},{\"key\":\"amount\",\"value\":\"100000000uusd\"},{\"key\":\"receiver\",\"value\":\"terra1untf85jwv3kt0puyyc39myxjvplagr3wstgs5s\"},{\"key\":\"amount\",\"value\":\"1217569uluna\"},{\"key\":\"receiver\",\"value\":\"terra1sjvvhcvaqeg4x05dgn8avhwe56hr739ps8qnzp\"},{\"key\":\"amount\",\"value\":\"1211481uluna\"},{\"key\":\"receiver\",\"value\":\"terra1jgp27m8fykex4e4jtt0l7ze8q528ux2lh4zh0f\"},{\"key\":\"amount\",\"value\":\"6088uluna\"}]},{\"type\":\"coin_spent\",\"attributes\":[{\"key\":\"spender\",\"value\":\"terra1sjvvhcvaqeg4x05dgn8avhwe56hr739ps8qnzp\"},{\"key\":\"amount\",\"value\":\"100000000uusd\"},{\"key\":\"spender\",\"value\":\"terra1untf85jwv3kt0puyyc39myxjvplagr3wstgs5s\"},{\"key\":\"amount\",\"value\":\"100000000uusd\"},{\"key\":\"spender\",\"value\":\"terra1untf85jwv3kt0puyyc39myxjvplagr3wstgs5s\"},{\"key\":\"amount\",\"value\":\"1211481uluna\"},{\"key\":\"spender\",\"value\":\"terra1untf85jwv3kt0puyyc39myxjvplagr3wstgs5s\"},{\"key\":\"amount\",\"value\":\"6088uluna\"}]},{\"type\":\"coinbase\",\"attributes\":[{\"key\":\"minter\",\"value\":\"terra1untf85jwv3kt0puyyc39myxjvplagr3wstgs5s\"},{\"key\":\"amount\",\"value\":\"1217569uluna\"}]},{\"type\":\"message\",\"attributes\":[{\"key\":\"action\",\"value\":\"/terra.market.v1beta1.MsgSwap\"},{\"key\":\"sender\",\"value\":\"terra1sjvvhcvaqeg4x05dgn8avhwe56hr739ps8qnzp\"},{\"key\":\"sender\",\"value\":\"terra1untf85jwv3kt0puyyc39myxjvplagr3wstgs5s\"},{\"key\":\"sender\",\"value\":\"terra1untf85jwv3kt0puyyc39myxjvplagr3wstgs5s\"},{\"key\":\"module\",\"value\":\"market\"}]},{\"type\":\"swap\",\"attributes\":[{\"key\":\"offer\",\"value\":\"100000000uusd\"},{\"key\":\"trader\",\"value\":\"terra1sjvvhcvaqeg4x05dgn8avhwe56hr739ps8qnzp\"},{\"key\":\"recipient\",\"value\":\"terra1sjvvhcvaqeg4x05dgn8avhwe56hr739ps8qnzp\"},{\"key\":\"swap_coin\",\"value\":\"1211481uluna\"},{\"key\":\"swap_fee\",\"value\":\"6088uluna\"}]},{\"type\":\"transfer\",\"attributes\":[{\"key\":\"recipient\",\"value\":\"terra1untf85jwv3kt0puyyc39myxjvplagr3wstgs5s\"},{\"key\":\"sender\",\"value\":\"terra1sjvvhcvaqeg4x05dgn8avhwe56hr739ps8qnzp\"},{\"key\":\"amount\",\"value\":\"100000000uusd\"},{\"key\":\"recipient\",\"value\":\"terra1sjvvhcvaqeg4x05dgn8avhwe56hr739ps8qnzp\"},{\"key\":\"sender\",\"value\":\"terra1untf85jwv3kt0puyyc39myxjvplagr3wstgs5s\"},{\"key\":\"amount\",\"value\":\"1211481uluna\"},{\"key\":\"recipient\",\"value\":\"terra1jgp27m8fykex4e4jtt0l7ze8q528ux2lh4zh0f\"},{\"key\":\"sender\",\"value\":\"terra1untf85jwv3kt0puyyc39myxjvplagr3wstgs5s\"},{\"key\":\"amount\",\"value\":\"6088uluna\"}]}]}]', gas_wanted=134045, gas_used=115549, logs=[TxLog(msg_index=0, log=None, events=[{'type': 'burn', 'attributes': [{'key': 'burner', 'value': 'terra1untf85jwv3kt0puyyc39myxjvplagr3wstgs5s'}, {'key': 'amount', 'value': '100000000uusd'}]}, {'type': 'coin_received', 'attributes': [{'key': 'receiver', 'value': 'terra1untf85jwv3kt0puyyc39myxjvplagr3wstgs5s'}, {'key': 'amount', 'value': '100000000uusd'}, {'key': 'receiver', 'value': 'terra1untf85jwv3kt0puyyc39myxjvplagr3wstgs5s'}, {'key': 'amount', 'value': '1217569uluna'}, {'key': 'receiver', 'value': 'terra1sjvvhcvaqeg4x05dgn8avhwe56hr739ps8qnzp'}, {'key': 'amount', 'value': '1211481uluna'}, {'key': 'receiver', 'value': 'terra1jgp27m8fykex4e4jtt0l7ze8q528ux2lh4zh0f'}, {'key': 'amount', 'value': '6088uluna'}]}, {'type': 'coin_spent', 'attributes': [{'key': 'spender', 'value': 'terra1sjvvhcvaqeg4x05dgn8avhwe56hr739ps8qnzp'}, {'key': 'amount', 'value': '100000000uusd'}, {'key': 'spender', 'value': 'terra1untf85jwv3kt0puyyc39myxjvplagr3wstgs5s'}, {'key': 'amount', 'value': '100000000uusd'}, {'key': 'spender', 'value': 'terra1untf85jwv3kt0puyyc39myxjvplagr3wstgs5s'}, {'key': 'amount', 'value': '1211481uluna'}, {'key': 'spender', 'value': 'terra1untf85jwv3kt0puyyc39myxjvplagr3wstgs5s'}, {'key': 'amount', 'value': '6088uluna'}]}, {'type': 'coinbase', 'attributes': [{'key': 'minter', 'value': 'terra1untf85jwv3kt0puyyc39myxjvplagr3wstgs5s'}, {'key': 'amount', 'value': '1217569uluna'}]}, {'type': 'message', 'attributes': [{'key': 'action', 'value': '/terra.market.v1beta1.MsgSwap'}, {'key': 'sender', 'value': 'terra1sjvvhcvaqeg4x05dgn8avhwe56hr739ps8qnzp'}, {'key': 'sender', 'value': 'terra1untf85jwv3kt0puyyc39myxjvplagr3wstgs5s'}, {'key': 'sender', 'value': 'terra1untf85jwv3kt0puyyc39myxjvplagr3wstgs5s'}, {'key': 'module', 'value': 'market'}]}, {'type': 'swap', 'attributes': [{'key': 'offer', 'value': '100000000uusd'}, {'key': 'trader', 'value': 'terra1sjvvhcvaqeg4x05dgn8avhwe56hr739ps8qnzp'}, {'key': 'recipient', 'value': 'terra1sjvvhcvaqeg4x05dgn8avhwe56hr739ps8qnzp'}, {'key': 'swap_coin', 'value': '1211481uluna'}, {'key': 'swap_fee', 'value': '6088uluna'}]}, {'type': 'transfer', 'attributes': [{'key': 'recipient', 'value': 'terra1untf85jwv3kt0puyyc39myxjvplagr3wstgs5s'}, {'key': 'sender', 'value': 'terra1sjvvhcvaqeg4x05dgn8avhwe56hr739ps8qnzp'}, {'key': 'amount', 'value': '100000000uusd'}, {'key': 'recipient', 'value': 'terra1sjvvhcvaqeg4x05dgn8avhwe56hr739ps8qnzp'}, {'key': 'sender', 'value': 'terra1untf85jwv3kt0puyyc39myxjvplagr3wstgs5s'}, {'key': 'amount', 'value': '1211481uluna'}, {'key': 'recipient', 'value': 'terra1jgp27m8fykex4e4jtt0l7ze8q528ux2lh4zh0f'}, {'key': 'sender', 'value': 'terra1untf85jwv3kt0puyyc39myxjvplagr3wstgs5s'}, {'key': 'amount', 'value': '6088uluna'}]}], events_by_type={'burn': {'burner': ['terra1untf85jwv3kt0puyyc39myxjvplagr3wstgs5s'], 'amount': ['100000000uusd']}, 'coin_received': {'receiver': ['terra1untf85jwv3kt0puyyc39myxjvplagr3wstgs5s', 'terra1untf85jwv3kt0puyyc39myxjvplagr3wstgs5s', 'terra1sjvvhcvaqeg4x05dgn8avhwe56hr739ps8qnzp', 'terra1jgp27m8fykex4e4jtt0l7ze8q528ux2lh4zh0f'], 'amount': ['100000000uusd', '1217569uluna', '1211481uluna', '6088uluna']}, 'coin_spent': {'spender': ['terra1sjvvhcvaqeg4x05dgn8avhwe56hr739ps8qnzp', 'terra1untf85jwv3kt0puyyc39myxjvplagr3wstgs5s', 'terra1untf85jwv3kt0puyyc39myxjvplagr3wstgs5s', 'terra1untf85jwv3kt0puyyc39myxjvplagr3wstgs5s'], 'amount': ['100000000uusd', '100000000uusd', '1211481uluna', '6088uluna']}, 'coinbase': {'minter': ['terra1untf85jwv3kt0puyyc39myxjvplagr3wstgs5s'], 'amount': ['1217569uluna']}, 'message': {'action': ['/terra.market.v1beta1.MsgSwap'], 'sender': ['terra1sjvvhcvaqeg4x05dgn8avhwe56hr739ps8qnzp', 'terra1untf85jwv3kt0puyyc39myxjvplagr3wstgs5s', 'terra1untf85jwv3kt0puyyc39myxjvplagr3wstgs5s'], 'module': ['market']}, 'swap': {'offer': ['100000000uusd'], 'trader': ['terra1sjvvhcvaqeg4x05dgn8avhwe56hr739ps8qnzp'], 'recipient': ['terra1sjvvhcvaqeg4x05dgn8avhwe56hr739ps8qnzp'], 'swap_coin': ['1211481uluna'], 'swap_fee': ['6088uluna']}, 'transfer': {'recipient': ['terra1untf85jwv3kt0puyyc39myxjvplagr3wstgs5s', 'terra1sjvvhcvaqeg4x05dgn8avhwe56hr739ps8qnzp', 'terra1jgp27m8fykex4e4jtt0l7ze8q528ux2lh4zh0f'], 'sender': ['terra1sjvvhcvaqeg4x05dgn8avhwe56hr739ps8qnzp', 'terra1untf85jwv3kt0puyyc39myxjvplagr3wstgs5s', 'terra1untf85jwv3kt0puyyc39myxjvplagr3wstgs5s'], 'amount': ['100000000uusd', '1211481uluna', '6088uluna']}})], code=None, codespace=None)"
            ]
          },
          "metadata": {},
          "execution_count": 24
        }
      ]
    },
    {
      "cell_type": "code",
      "source": [
        "result.txhash"
      ],
      "metadata": {
        "colab": {
          "base_uri": "https://localhost:8080/",
          "height": 35
        },
        "id": "MrNgEQfWOBp4",
        "outputId": "ed4c6691-7be4-4bf9-8415-e8b7d6d1d3e9"
      },
      "execution_count": null,
      "outputs": [
        {
          "output_type": "execute_result",
          "data": {
            "application/vnd.google.colaboratory.intrinsic+json": {
              "type": "string"
            },
            "text/plain": [
              "'637AE50983E6F2AF45DD15013DF00B0F92DBA90DFF3E48A121B9E28CC594E2CD'"
            ]
          },
          "metadata": {},
          "execution_count": 31
        }
      ]
    },
    {
      "cell_type": "markdown",
      "source": [
        "# Check tx"
      ],
      "metadata": {
        "id": "FSODReyrQSb5"
      }
    },
    {
      "cell_type": "code",
      "source": [
        "terra.tx.tx_info(result.txhash)"
      ],
      "metadata": {
        "colab": {
          "base_uri": "https://localhost:8080/"
        },
        "id": "kSdPk1z6QSRJ",
        "outputId": "f1e2afed-d5d3-41ba-bdfe-554b883f0f76"
      },
      "execution_count": null,
      "outputs": [
        {
          "output_type": "execute_result",
          "data": {
            "text/plain": [
              "TxInfo(height=7422210, txhash='637AE50983E6F2AF45DD15013DF00B0F92DBA90DFF3E48A121B9E28CC594E2CD', rawlog='[{\"events\":[{\"type\":\"burn\",\"attributes\":[{\"key\":\"burner\",\"value\":\"terra1untf85jwv3kt0puyyc39myxjvplagr3wstgs5s\"},{\"key\":\"amount\",\"value\":\"100000000uusd\"}]},{\"type\":\"coin_received\",\"attributes\":[{\"key\":\"receiver\",\"value\":\"terra1untf85jwv3kt0puyyc39myxjvplagr3wstgs5s\"},{\"key\":\"amount\",\"value\":\"100000000uusd\"},{\"key\":\"receiver\",\"value\":\"terra1untf85jwv3kt0puyyc39myxjvplagr3wstgs5s\"},{\"key\":\"amount\",\"value\":\"1217569uluna\"},{\"key\":\"receiver\",\"value\":\"terra1sjvvhcvaqeg4x05dgn8avhwe56hr739ps8qnzp\"},{\"key\":\"amount\",\"value\":\"1211481uluna\"},{\"key\":\"receiver\",\"value\":\"terra1jgp27m8fykex4e4jtt0l7ze8q528ux2lh4zh0f\"},{\"key\":\"amount\",\"value\":\"6088uluna\"}]},{\"type\":\"coin_spent\",\"attributes\":[{\"key\":\"spender\",\"value\":\"terra1sjvvhcvaqeg4x05dgn8avhwe56hr739ps8qnzp\"},{\"key\":\"amount\",\"value\":\"100000000uusd\"},{\"key\":\"spender\",\"value\":\"terra1untf85jwv3kt0puyyc39myxjvplagr3wstgs5s\"},{\"key\":\"amount\",\"value\":\"100000000uusd\"},{\"key\":\"spender\",\"value\":\"terra1untf85jwv3kt0puyyc39myxjvplagr3wstgs5s\"},{\"key\":\"amount\",\"value\":\"1211481uluna\"},{\"key\":\"spender\",\"value\":\"terra1untf85jwv3kt0puyyc39myxjvplagr3wstgs5s\"},{\"key\":\"amount\",\"value\":\"6088uluna\"}]},{\"type\":\"coinbase\",\"attributes\":[{\"key\":\"minter\",\"value\":\"terra1untf85jwv3kt0puyyc39myxjvplagr3wstgs5s\"},{\"key\":\"amount\",\"value\":\"1217569uluna\"}]},{\"type\":\"message\",\"attributes\":[{\"key\":\"action\",\"value\":\"/terra.market.v1beta1.MsgSwap\"},{\"key\":\"sender\",\"value\":\"terra1sjvvhcvaqeg4x05dgn8avhwe56hr739ps8qnzp\"},{\"key\":\"sender\",\"value\":\"terra1untf85jwv3kt0puyyc39myxjvplagr3wstgs5s\"},{\"key\":\"sender\",\"value\":\"terra1untf85jwv3kt0puyyc39myxjvplagr3wstgs5s\"},{\"key\":\"module\",\"value\":\"market\"}]},{\"type\":\"swap\",\"attributes\":[{\"key\":\"offer\",\"value\":\"100000000uusd\"},{\"key\":\"trader\",\"value\":\"terra1sjvvhcvaqeg4x05dgn8avhwe56hr739ps8qnzp\"},{\"key\":\"recipient\",\"value\":\"terra1sjvvhcvaqeg4x05dgn8avhwe56hr739ps8qnzp\"},{\"key\":\"swap_coin\",\"value\":\"1211481uluna\"},{\"key\":\"swap_fee\",\"value\":\"6088uluna\"}]},{\"type\":\"transfer\",\"attributes\":[{\"key\":\"recipient\",\"value\":\"terra1untf85jwv3kt0puyyc39myxjvplagr3wstgs5s\"},{\"key\":\"sender\",\"value\":\"terra1sjvvhcvaqeg4x05dgn8avhwe56hr739ps8qnzp\"},{\"key\":\"amount\",\"value\":\"100000000uusd\"},{\"key\":\"recipient\",\"value\":\"terra1sjvvhcvaqeg4x05dgn8avhwe56hr739ps8qnzp\"},{\"key\":\"sender\",\"value\":\"terra1untf85jwv3kt0puyyc39myxjvplagr3wstgs5s\"},{\"key\":\"amount\",\"value\":\"1211481uluna\"},{\"key\":\"recipient\",\"value\":\"terra1jgp27m8fykex4e4jtt0l7ze8q528ux2lh4zh0f\"},{\"key\":\"sender\",\"value\":\"terra1untf85jwv3kt0puyyc39myxjvplagr3wstgs5s\"},{\"key\":\"amount\",\"value\":\"6088uluna\"}]}]}]', logs=[TxLog(msg_index=0, log=None, events=[{'type': 'burn', 'attributes': [{'key': 'burner', 'value': 'terra1untf85jwv3kt0puyyc39myxjvplagr3wstgs5s'}, {'key': 'amount', 'value': '100000000uusd'}]}, {'type': 'coin_received', 'attributes': [{'key': 'receiver', 'value': 'terra1untf85jwv3kt0puyyc39myxjvplagr3wstgs5s'}, {'key': 'amount', 'value': '100000000uusd'}, {'key': 'receiver', 'value': 'terra1untf85jwv3kt0puyyc39myxjvplagr3wstgs5s'}, {'key': 'amount', 'value': '1217569uluna'}, {'key': 'receiver', 'value': 'terra1sjvvhcvaqeg4x05dgn8avhwe56hr739ps8qnzp'}, {'key': 'amount', 'value': '1211481uluna'}, {'key': 'receiver', 'value': 'terra1jgp27m8fykex4e4jtt0l7ze8q528ux2lh4zh0f'}, {'key': 'amount', 'value': '6088uluna'}]}, {'type': 'coin_spent', 'attributes': [{'key': 'spender', 'value': 'terra1sjvvhcvaqeg4x05dgn8avhwe56hr739ps8qnzp'}, {'key': 'amount', 'value': '100000000uusd'}, {'key': 'spender', 'value': 'terra1untf85jwv3kt0puyyc39myxjvplagr3wstgs5s'}, {'key': 'amount', 'value': '100000000uusd'}, {'key': 'spender', 'value': 'terra1untf85jwv3kt0puyyc39myxjvplagr3wstgs5s'}, {'key': 'amount', 'value': '1211481uluna'}, {'key': 'spender', 'value': 'terra1untf85jwv3kt0puyyc39myxjvplagr3wstgs5s'}, {'key': 'amount', 'value': '6088uluna'}]}, {'type': 'coinbase', 'attributes': [{'key': 'minter', 'value': 'terra1untf85jwv3kt0puyyc39myxjvplagr3wstgs5s'}, {'key': 'amount', 'value': '1217569uluna'}]}, {'type': 'message', 'attributes': [{'key': 'action', 'value': '/terra.market.v1beta1.MsgSwap'}, {'key': 'sender', 'value': 'terra1sjvvhcvaqeg4x05dgn8avhwe56hr739ps8qnzp'}, {'key': 'sender', 'value': 'terra1untf85jwv3kt0puyyc39myxjvplagr3wstgs5s'}, {'key': 'sender', 'value': 'terra1untf85jwv3kt0puyyc39myxjvplagr3wstgs5s'}, {'key': 'module', 'value': 'market'}]}, {'type': 'swap', 'attributes': [{'key': 'offer', 'value': '100000000uusd'}, {'key': 'trader', 'value': 'terra1sjvvhcvaqeg4x05dgn8avhwe56hr739ps8qnzp'}, {'key': 'recipient', 'value': 'terra1sjvvhcvaqeg4x05dgn8avhwe56hr739ps8qnzp'}, {'key': 'swap_coin', 'value': '1211481uluna'}, {'key': 'swap_fee', 'value': '6088uluna'}]}, {'type': 'transfer', 'attributes': [{'key': 'recipient', 'value': 'terra1untf85jwv3kt0puyyc39myxjvplagr3wstgs5s'}, {'key': 'sender', 'value': 'terra1sjvvhcvaqeg4x05dgn8avhwe56hr739ps8qnzp'}, {'key': 'amount', 'value': '100000000uusd'}, {'key': 'recipient', 'value': 'terra1sjvvhcvaqeg4x05dgn8avhwe56hr739ps8qnzp'}, {'key': 'sender', 'value': 'terra1untf85jwv3kt0puyyc39myxjvplagr3wstgs5s'}, {'key': 'amount', 'value': '1211481uluna'}, {'key': 'recipient', 'value': 'terra1jgp27m8fykex4e4jtt0l7ze8q528ux2lh4zh0f'}, {'key': 'sender', 'value': 'terra1untf85jwv3kt0puyyc39myxjvplagr3wstgs5s'}, {'key': 'amount', 'value': '6088uluna'}]}], events_by_type={'burn': {'burner': ['terra1untf85jwv3kt0puyyc39myxjvplagr3wstgs5s'], 'amount': ['100000000uusd']}, 'coin_received': {'receiver': ['terra1untf85jwv3kt0puyyc39myxjvplagr3wstgs5s', 'terra1untf85jwv3kt0puyyc39myxjvplagr3wstgs5s', 'terra1sjvvhcvaqeg4x05dgn8avhwe56hr739ps8qnzp', 'terra1jgp27m8fykex4e4jtt0l7ze8q528ux2lh4zh0f'], 'amount': ['100000000uusd', '1217569uluna', '1211481uluna', '6088uluna']}, 'coin_spent': {'spender': ['terra1sjvvhcvaqeg4x05dgn8avhwe56hr739ps8qnzp', 'terra1untf85jwv3kt0puyyc39myxjvplagr3wstgs5s', 'terra1untf85jwv3kt0puyyc39myxjvplagr3wstgs5s', 'terra1untf85jwv3kt0puyyc39myxjvplagr3wstgs5s'], 'amount': ['100000000uusd', '100000000uusd', '1211481uluna', '6088uluna']}, 'coinbase': {'minter': ['terra1untf85jwv3kt0puyyc39myxjvplagr3wstgs5s'], 'amount': ['1217569uluna']}, 'message': {'action': ['/terra.market.v1beta1.MsgSwap'], 'sender': ['terra1sjvvhcvaqeg4x05dgn8avhwe56hr739ps8qnzp', 'terra1untf85jwv3kt0puyyc39myxjvplagr3wstgs5s', 'terra1untf85jwv3kt0puyyc39myxjvplagr3wstgs5s'], 'module': ['market']}, 'swap': {'offer': ['100000000uusd'], 'trader': ['terra1sjvvhcvaqeg4x05dgn8avhwe56hr739ps8qnzp'], 'recipient': ['terra1sjvvhcvaqeg4x05dgn8avhwe56hr739ps8qnzp'], 'swap_coin': ['1211481uluna'], 'swap_fee': ['6088uluna']}, 'transfer': {'recipient': ['terra1untf85jwv3kt0puyyc39myxjvplagr3wstgs5s', 'terra1sjvvhcvaqeg4x05dgn8avhwe56hr739ps8qnzp', 'terra1jgp27m8fykex4e4jtt0l7ze8q528ux2lh4zh0f'], 'sender': ['terra1sjvvhcvaqeg4x05dgn8avhwe56hr739ps8qnzp', 'terra1untf85jwv3kt0puyyc39myxjvplagr3wstgs5s', 'terra1untf85jwv3kt0puyyc39myxjvplagr3wstgs5s'], 'amount': ['100000000uusd', '1211481uluna', '6088uluna']}})], gas_wanted=134045, gas_used=115549, tx=StdTx(msg=[MsgSwap(trader='terra1sjvvhcvaqeg4x05dgn8avhwe56hr739ps8qnzp', offer_coin=Coin(denom='uusd', amount=100000000), ask_denom='uluna')], fee=StdFee(gas=134045, amount=Coins('134045uluna')), signatures=[StdSignature(signature='n+hJUQn0sT5zFS3JKQq7Tgqks5Fl6v+1RZ5439Ja/7hDeGoWXvBhh+fMwK17mq7HxVo46YabA4tpeMV6eBEqag==', pub_key=PublicKey(type='tendermint/PubKeySecp256k1', value='AlAdv8psEHZm56S9nzleTMhaEyEQmqR/UqACtRP8BnR9'))], memo='Algotrading101'), timestamp='2022-01-14T20:11:44Z', code=None, codespace=None)"
            ]
          },
          "metadata": {},
          "execution_count": 39
        }
      ]
    },
    {
      "cell_type": "markdown",
      "source": [
        "# Estimate Fees"
      ],
      "metadata": {
        "id": "h9DJ4BpIS4uJ"
      }
    },
    {
      "cell_type": "code",
      "source": [
        "fees = requests.get(\n",
        "        \"https://fcd.terra.dev/v1/txs/gas_prices\"\n",
        "    ).json()\n",
        "fees"
      ],
      "metadata": {
        "colab": {
          "base_uri": "https://localhost:8080/"
        },
        "id": "dcm8FD_5QSOq",
        "outputId": "6fc5e29f-8d8a-476a-bfa1-152d034f2d67"
      },
      "execution_count": null,
      "outputs": [
        {
          "output_type": "execute_result",
          "data": {
            "text/plain": [
              "{'uaud': '0.19',\n",
              " 'ucad': '0.19',\n",
              " 'uchf': '0.14',\n",
              " 'ucny': '0.98',\n",
              " 'udkk': '0.9',\n",
              " 'ueur': '0.125',\n",
              " 'ugbp': '0.11',\n",
              " 'uhkd': '1.17',\n",
              " 'uidr': '2180.0',\n",
              " 'uinr': '10.88',\n",
              " 'ujpy': '16.37',\n",
              " 'ukrw': '169.77',\n",
              " 'uluna': '0.01133',\n",
              " 'umnt': '428.571',\n",
              " 'unok': '1.25',\n",
              " 'uphp': '7.6',\n",
              " 'usdr': '0.104938',\n",
              " 'usek': '1.25',\n",
              " 'usgd': '0.2',\n",
              " 'uthb': '4.62',\n",
              " 'uusd': '0.15'}"
            ]
          },
          "metadata": {},
          "execution_count": 42
        }
      ]
    },
    {
      "cell_type": "code",
      "source": [
        "from terra_sdk.core.auth import StdFee\n",
        "\n",
        "denominator = 1000000\n",
        "\n",
        "fee = str(int(float(fees[\"uusd\"]) * denominator)) + \"uusd\"\n",
        "\n",
        "# Send tx\n",
        "sendtx = wallet.create_and_sign_tx(\n",
        "    msgs=[msg],\n",
        "    fee=StdFee(denominator, fee),\n",
        "    fee_denoms=['uusd']\n",
        ")\n",
        "\n",
        "fee"
      ],
      "metadata": {
        "colab": {
          "base_uri": "https://localhost:8080/",
          "height": 35
        },
        "id": "HqpChnYoQSMO",
        "outputId": "0eaa19bd-b4ea-4bbd-dbe5-b6eaa3f883df"
      },
      "execution_count": null,
      "outputs": [
        {
          "output_type": "execute_result",
          "data": {
            "application/vnd.google.colaboratory.intrinsic+json": {
              "type": "string"
            },
            "text/plain": [
              "'150000uusd'"
            ]
          },
          "metadata": {},
          "execution_count": 45
        }
      ]
    },
    {
      "cell_type": "code",
      "source": [
        "terra.tx.estimate_fee(\n",
        "    sender=mk.acc_address, \n",
        "    msgs=[msg], \n",
        "    fee_denoms=['uusd']\n",
        "    )"
      ],
      "metadata": {
        "colab": {
          "base_uri": "https://localhost:8080/"
        },
        "id": "ri9llwHzQSJv",
        "outputId": "d5a9b6d7-7670-438b-dd49-be3ef62b3428"
      },
      "execution_count": null,
      "outputs": [
        {
          "output_type": "execute_result",
          "data": {
            "text/plain": [
              "StdFee(gas=99535, amount=Coins())"
            ]
          },
          "metadata": {},
          "execution_count": 53
        }
      ]
    },
    {
      "cell_type": "markdown",
      "source": [
        "# Send crypto to another wallet"
      ],
      "metadata": {
        "id": "Gf-M50JPV8Y3"
      }
    },
    {
      "cell_type": "code",
      "source": [
        "from terra_sdk.core.bank import MsgSend\n",
        "\n",
        "send = MsgSend(\n",
        "    mk.acc_address,\n",
        "    'RECEIVER-ADDRESS-HERE',\n",
        "    terra.bank.balance(mk.acc_address)/3\n",
        "    )"
      ],
      "metadata": {
        "id": "vwvc4BXOQSHF"
      },
      "execution_count": null,
      "outputs": []
    },
    {
      "cell_type": "markdown",
      "source": [
        "# Non-native swap"
      ],
      "metadata": {
        "id": "2YwH07CQXNFA"
      }
    },
    {
      "cell_type": "code",
      "source": [
        "from terra_sdk.core.coins import Coins\n",
        "from terra_sdk.core.coins import Coin\n",
        "from terra_sdk.core.wasm import MsgExecuteContract\n",
        "\n",
        "# Specify the amount of Luna to swap\n",
        "amount = 10000000\n",
        "\n",
        "# Populate the address and contact variables\n",
        "luna_bluna_pair_address = \"terra13e4jmcjnwrauvl2fnjdwex0exuzd8zrh5xk29v\"\n",
        "bluna_contract = \"terra1u0t35drzyy0mujj8rkdyzhe264uls4ug3wdp3x\"\n",
        "\n",
        "# Specify how much LUNA you're sending \n",
        "coin = Coin(\"uluna\", amount).to_data()\n",
        "coins = Coins.from_data([coin])\n",
        "\n",
        "# Create the message\n",
        "send = (\n",
        "    MsgExecuteContract(\n",
        "        sender=mk.acc_address,\n",
        "        contract=luna_bluna_pair_address,\n",
        "        execute_msg={\n",
        "            \"swap\": {\n",
        "                \"offer_asset\": {\n",
        "                    \"max_spread\":\"0.005\", # Optional\n",
        "                    \"info\": {\"native_token\": {\"denom\": \"uluna\"}},\n",
        "                    \"amount\": str(int(amount)),\n",
        "                },\n",
        "                \"to\": mk.acc_address,\n",
        "            }\n",
        "        },\n",
        "        coins=coins,\n",
        "    ),\n",
        ")\n",
        "\n",
        "fees = requests.get(\n",
        "        \"https://fcd.terra.dev/v1/txs/gas_prices\",\n",
        "    ).json()\n",
        "fee = str(int(float(fees[\"uusd\"]) * denominator)) + \"uusd\"\n",
        "\n",
        "# Send tx\n",
        "sendtx = wallet.create_and_sign_tx(\n",
        "    send,\n",
        "    fee=StdFee(denominator, fee),\n",
        "    fee_denoms=['uusd']\n",
        ")\n",
        "\n",
        "result = terra.tx.broadcast(sendtx)\n",
        "result.txhash"
      ],
      "metadata": {
        "colab": {
          "base_uri": "https://localhost:8080/",
          "height": 35
        },
        "id": "GURi4rUhQSCu",
        "outputId": "9b6e022c-919b-44fe-a4e4-b616cfacd240"
      },
      "execution_count": null,
      "outputs": [
        {
          "output_type": "execute_result",
          "data": {
            "application/vnd.google.colaboratory.intrinsic+json": {
              "type": "string"
            },
            "text/plain": [
              "'D3288A99A9861D57F91F050291C9E95251C7106C661DDF77CFF67C0C4455E244'"
            ]
          },
          "metadata": {},
          "execution_count": 56
        }
      ]
    },
    {
      "cell_type": "code",
      "source": [
        "# Swap back\n",
        "send = (\n",
        "        MsgExecuteContract(\n",
        "            sender=mk.acc_address,\n",
        "            contract=bluna_contract,\n",
        "            execute_msg={\n",
        "                \"send\": {\n",
        "                    \"contract\": luna_bluna_pair_address,\n",
        "                    \"amount\": str(5000000),\n",
        "                    \"msg\": \"eyJzd2FwIjoge319\",\n",
        "                }\n",
        "            },\n",
        "            coins=Coins(),\n",
        "        ),\n",
        "  )\n",
        "\n",
        "fees = requests.get(\n",
        "        \"https://fcd.terra.dev/v1/txs/gas_prices\",\n",
        "    ).json()\n",
        "fee = str(int(float(fees[\"uusd\"]) * denominator)) + \"uusd\"\n",
        "\n",
        "# Send tx\n",
        "sendtx = wallet.create_and_sign_tx(\n",
        "    send,\n",
        "    fee=StdFee(denominator, fee),\n",
        "    fee_denoms=['uusd']\n",
        ")\n",
        "\n",
        "result = terra.tx.broadcast(sendtx)\n",
        "result.txhash"
      ],
      "metadata": {
        "colab": {
          "base_uri": "https://localhost:8080/",
          "height": 35
        },
        "id": "A1TORRrKcVTl",
        "outputId": "df8cf161-7fd9-4ad7-8ee0-bbcf0db8099d"
      },
      "execution_count": null,
      "outputs": [
        {
          "output_type": "execute_result",
          "data": {
            "application/vnd.google.colaboratory.intrinsic+json": {
              "type": "string"
            },
            "text/plain": [
              "'B229B2A24DF9E5F07B0292C36FCE207A3E74F9E039C8C397DE0F2DFDF7928474'"
            ]
          },
          "metadata": {},
          "execution_count": 59
        }
      ]
    },
    {
      "cell_type": "markdown",
      "source": [
        "# CW-20 balance"
      ],
      "metadata": {
        "id": "EIOa1DX2e_ZG"
      }
    },
    {
      "cell_type": "code",
      "source": [
        "query_msg = '{\"balance\":{\"address\":\"' + mk.acc_address + '\"}}'\n",
        "response = requests.get(\n",
        "    \"https://bombay-lcd.terra.dev/wasm/contracts/\" + bluna_contract + \"/store\",\n",
        "    params={\"query_msg\": query_msg},\n",
        ").json()\n",
        "\n",
        "response"
      ],
      "metadata": {
        "colab": {
          "base_uri": "https://localhost:8080/"
        },
        "id": "eM6fe6cPe_qh",
        "outputId": "943f2306-2020-48ac-fda1-4765c797dd5b"
      },
      "execution_count": null,
      "outputs": [
        {
          "output_type": "execute_result",
          "data": {
            "text/plain": [
              "{'height': '7422940', 'result': {'balance': '5020394'}}"
            ]
          },
          "metadata": {},
          "execution_count": 61
        }
      ]
    },
    {
      "cell_type": "markdown",
      "source": [
        "# Simulate transaction"
      ],
      "metadata": {
        "id": "txXpnN3IlNDx"
      }
    },
    {
      "cell_type": "code",
      "source": [
        "query_msg = (\n",
        "    '{\"simulation\":{\"offer_asset\":{\"amount\":\"'\n",
        "    + str(50000000)\n",
        "    + '\",\"info\":{\"token\":{\"contract_addr\":\"terra1u0t35drzyy0mujj8rkdyzhe264uls4ug3wdp3x\"}}}}}'\n",
        ")\n",
        "\n",
        "\n",
        "response = requests.get(\n",
        "    \"https://bombay-lcd.terra.dev/wasm/contracts/\" + luna_bluna_pair_address + \"/store\",\n",
        "    params={\"query_msg\": query_msg},\n",
        ").json()\n",
        "\n",
        "response"
      ],
      "metadata": {
        "colab": {
          "base_uri": "https://localhost:8080/"
        },
        "id": "zffElcHMe_-i",
        "outputId": "d364fdec-080b-422b-dd45-5635b2557497"
      },
      "execution_count": null,
      "outputs": [
        {
          "output_type": "execute_result",
          "data": {
            "text/plain": [
              "{'height': '7423219',\n",
              " 'result': {'commission_amount': '149085',\n",
              "  'return_amount': '49546156',\n",
              "  'spread_amount': '53341'}}"
            ]
          },
          "metadata": {},
          "execution_count": 71
        }
      ]
    },
    {
      "cell_type": "code",
      "source": [
        "# Reverse\n",
        "query_msg = (\n",
        "    '{\"reverse_simulation\":{\"ask_asset\":{\"amount\":\"'\n",
        "    + str(50000000)\n",
        "    + '\",\"info\":{\"token\":{\"contract_addr\":\"terra1u0t35drzyy0mujj8rkdyzhe264uls4ug3wdp3x\"}}}}}'\n",
        ")\n",
        "\n",
        "\n",
        "response = requests.get(\n",
        "    \"https://bombay-lcd.terra.dev/wasm/contracts/\" + luna_bluna_pair_address + \"/store\",\n",
        "    params={\"query_msg\": query_msg},\n",
        ").json()\n",
        "\n",
        "response"
      ],
      "metadata": {
        "colab": {
          "base_uri": "https://localhost:8080/"
        },
        "id": "H4qzMRTIe_8K",
        "outputId": "7809c4ba-1bc9-4226-ff9f-4529e98c13c1"
      },
      "execution_count": null,
      "outputs": [
        {
          "output_type": "execute_result",
          "data": {
            "text/plain": [
              "{'height': '7423233',\n",
              " 'result': {'commission_amount': '150451',\n",
              "  'offer_amount': '49952055',\n",
              "  'spread_amount': '54049'}}"
            ]
          },
          "metadata": {},
          "execution_count": 72
        }
      ]
    },
    {
      "cell_type": "code",
      "source": [
        ""
      ],
      "metadata": {
        "id": "ZWK71_pje_s-"
      },
      "execution_count": null,
      "outputs": []
    }
  ]
}